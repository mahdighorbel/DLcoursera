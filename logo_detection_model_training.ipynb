{
  "nbformat": 4,
  "nbformat_minor": 0,
  "metadata": {
    "colab": {
      "name": "YOLOv5 Tutorial",
      "provenance": [],
      "collapsed_sections": [],
      "machine_shape": "hm"
    },
    "kernelspec": {
      "name": "python3",
      "display_name": "Python 3"
    },
    "accelerator": "GPU"
  },
  "cells": [
    {
      "cell_type": "markdown",
      "metadata": {
        "id": "t6MPjfT5NrKQ"
      },
      "source": [
        "<div align=\"center\">\n",
        "\n",
        "  <a href=\"https://ultralytics.com/yolov5\" target=\"_blank\">\n",
        "    <img width=\"1024\", src=\"https://github.com/ultralytics/assets/raw/master/yolov5/v62/splash_notebook.png\"></a>\n",
        "\n",
        "\n",
        "<br>\n",
        "  <a href=\"https://colab.research.google.com/github/ultralytics/yolov5/blob/master/tutorial.ipynb\"><img src=\"https://colab.research.google.com/assets/colab-badge.svg\" alt=\"Open In Colab\"></a>\n",
        "  <a href=\"https://www.kaggle.com/ultralytics/yolov5\"><img src=\"https://kaggle.com/static/images/open-in-kaggle.svg\" alt=\"Open In Kaggle\"></a>\n",
        "<br>\n",
        "\n",
        "This <a href=\"https://github.com/ultralytics/yolov5\">YOLOv5</a> 🚀 notebook by <a href=\"https://ultralytics.com\">Ultralytics</a> presents simple train, validate and predict examples to help start your AI adventure.<br>See <a href=\"https://github.com/ultralytics/yolov5/issues/new/choose\">GitHub</a> for community support or <a href=\"https://ultralytics.com/contact\">contact us</a> for professional support.\n",
        "\n",
        "</div>"
      ]
    },
    {
      "cell_type": "markdown",
      "metadata": {
        "id": "7mGmQbAO5pQb"
      },
      "source": [
        "# Setup\n",
        "\n",
        "Clone GitHub [repository](https://github.com/ultralytics/yolov5), install [dependencies](https://github.com/ultralytics/yolov5/blob/master/requirements.txt) and check PyTorch and GPU."
      ]
    },
    {
      "cell_type": "code",
      "metadata": {
        "id": "wbvMlHd_QwMG",
        "colab": {
          "base_uri": "https://localhost:8080/"
        },
        "outputId": "f1c93fd3-20de-40eb-daf9-a9ea00ca0864"
      },
      "source": [
        "!git clone https://github.com/ultralytics/yolov5  # clone\n",
        "%cd yolov5\n",
        "%pip install -qr requirements.txt  # install\n",
        "\n",
        "import torch\n",
        "import utils\n",
        "display = utils.notebook_init()  # checks"
      ],
      "execution_count": 1,
      "outputs": [
        {
          "output_type": "stream",
          "name": "stderr",
          "text": [
            "YOLOv5 🚀 v6.2-66-ge57275a Python-3.7.13 torch-1.12.1+cu113 CUDA:0 (Tesla T4, 15110MiB)\n"
          ]
        },
        {
          "output_type": "stream",
          "name": "stdout",
          "text": [
            "Setup complete ✅ (2 CPUs, 12.7 GB RAM, 37.4/78.2 GB disk)\n"
          ]
        }
      ]
    },
    {
      "cell_type": "code",
      "metadata": {
        "id": "1NcFxRcFdJ_O",
        "colab": {
          "base_uri": "https://localhost:8080/"
        },
        "outputId": "baa6d4be-3379-4aab-844a-d5a5396c0e49"
      },
      "source": [
        "# Train YOLOv5s on COCO128 for 100 epochs\n",
        "!python train.py --img 640 --batch 16 --epochs 100 --data custom_data.yaml --weights yolov5s.pt --cache"
      ],
      "execution_count": null,
      "outputs": [
        {
          "output_type": "stream",
          "name": "stdout",
          "text": [
            "\u001b[34m\u001b[1mtrain: \u001b[0mweights=yolov5s.pt, cfg=, data=coco128.yaml, hyp=data/hyps/hyp.scratch-low.yaml, epochs=3, batch_size=16, imgsz=640, rect=False, resume=False, nosave=False, noval=False, noautoanchor=False, noplots=False, evolve=None, bucket=, cache=ram, image_weights=False, device=, multi_scale=False, single_cls=False, optimizer=SGD, sync_bn=False, workers=8, project=runs/train, name=exp, exist_ok=False, quad=False, cos_lr=False, label_smoothing=0.0, patience=100, freeze=[0], save_period=-1, seed=0, local_rank=-1, entity=None, upload_dataset=False, bbox_interval=-1, artifact_alias=latest\n",
            "\u001b[34m\u001b[1mgithub: \u001b[0mup to date with https://github.com/ultralytics/yolov5 ✅\n",
            "YOLOv5 🚀 v6.2-56-g30e674b Python-3.7.13 torch-1.12.1+cu113 CUDA:0 (Tesla V100-SXM2-16GB, 16160MiB)\n",
            "\n",
            "\u001b[34m\u001b[1mhyperparameters: \u001b[0mlr0=0.01, lrf=0.01, momentum=0.937, weight_decay=0.0005, warmup_epochs=3.0, warmup_momentum=0.8, warmup_bias_lr=0.1, box=0.05, cls=0.5, cls_pw=1.0, obj=1.0, obj_pw=1.0, iou_t=0.2, anchor_t=4.0, fl_gamma=0.0, hsv_h=0.015, hsv_s=0.7, hsv_v=0.4, degrees=0.0, translate=0.1, scale=0.5, shear=0.0, perspective=0.0, flipud=0.0, fliplr=0.5, mosaic=1.0, mixup=0.0, copy_paste=0.0\n",
            "\u001b[34m\u001b[1mWeights & Biases: \u001b[0mrun 'pip install wandb' to automatically track and visualize YOLOv5 🚀 runs in Weights & Biases\n",
            "\u001b[34m\u001b[1mClearML: \u001b[0mrun 'pip install clearml' to automatically track, visualize and remotely train YOLOv5 🚀 in ClearML\n",
            "\u001b[34m\u001b[1mTensorBoard: \u001b[0mStart with 'tensorboard --logdir runs/train', view at http://localhost:6006/\n",
            "\n",
            "Dataset not found ⚠️, missing paths ['/content/datasets/coco128/images/train2017']\n",
            "Downloading https://ultralytics.com/assets/coco128.zip to coco128.zip...\n",
            "100% 6.66M/6.66M [00:00<00:00, 41.1MB/s]\n",
            "Dataset download success ✅ (0.8s), saved to \u001b[1m/content/datasets\u001b[0m\n",
            "\n",
            "                 from  n    params  module                                  arguments                     \n",
            "  0                -1  1      3520  models.common.Conv                      [3, 32, 6, 2, 2]              \n",
            "  1                -1  1     18560  models.common.Conv                      [32, 64, 3, 2]                \n",
            "  2                -1  1     18816  models.common.C3                        [64, 64, 1]                   \n",
            "  3                -1  1     73984  models.common.Conv                      [64, 128, 3, 2]               \n",
            "  4                -1  2    115712  models.common.C3                        [128, 128, 2]                 \n",
            "  5                -1  1    295424  models.common.Conv                      [128, 256, 3, 2]              \n",
            "  6                -1  3    625152  models.common.C3                        [256, 256, 3]                 \n",
            "  7                -1  1   1180672  models.common.Conv                      [256, 512, 3, 2]              \n",
            "  8                -1  1   1182720  models.common.C3                        [512, 512, 1]                 \n",
            "  9                -1  1    656896  models.common.SPPF                      [512, 512, 5]                 \n",
            " 10                -1  1    131584  models.common.Conv                      [512, 256, 1, 1]              \n",
            " 11                -1  1         0  torch.nn.modules.upsampling.Upsample    [None, 2, 'nearest']          \n",
            " 12           [-1, 6]  1         0  models.common.Concat                    [1]                           \n",
            " 13                -1  1    361984  models.common.C3                        [512, 256, 1, False]          \n",
            " 14                -1  1     33024  models.common.Conv                      [256, 128, 1, 1]              \n",
            " 15                -1  1         0  torch.nn.modules.upsampling.Upsample    [None, 2, 'nearest']          \n",
            " 16           [-1, 4]  1         0  models.common.Concat                    [1]                           \n",
            " 17                -1  1     90880  models.common.C3                        [256, 128, 1, False]          \n",
            " 18                -1  1    147712  models.common.Conv                      [128, 128, 3, 2]              \n",
            " 19          [-1, 14]  1         0  models.common.Concat                    [1]                           \n",
            " 20                -1  1    296448  models.common.C3                        [256, 256, 1, False]          \n",
            " 21                -1  1    590336  models.common.Conv                      [256, 256, 3, 2]              \n",
            " 22          [-1, 10]  1         0  models.common.Concat                    [1]                           \n",
            " 23                -1  1   1182720  models.common.C3                        [512, 512, 1, False]          \n",
            " 24      [17, 20, 23]  1    229245  models.yolo.Detect                      [80, [[10, 13, 16, 30, 33, 23], [30, 61, 62, 45, 59, 119], [116, 90, 156, 198, 373, 326]], [128, 256, 512]]\n",
            "Model summary: 270 layers, 7235389 parameters, 7235389 gradients, 16.6 GFLOPs\n",
            "\n",
            "Transferred 349/349 items from yolov5s.pt\n",
            "\u001b[34m\u001b[1mAMP: \u001b[0mchecks passed ✅\n",
            "\u001b[34m\u001b[1moptimizer:\u001b[0m SGD(lr=0.01) with parameter groups 57 weight(decay=0.0), 60 weight(decay=0.0005), 60 bias\n",
            "\u001b[34m\u001b[1malbumentations: \u001b[0mBlur(p=0.01, blur_limit=(3, 7)), MedianBlur(p=0.01, blur_limit=(3, 7)), ToGray(p=0.01), CLAHE(p=0.01, clip_limit=(1, 4.0), tile_grid_size=(8, 8))\n",
            "\u001b[34m\u001b[1mtrain: \u001b[0mScanning '/content/datasets/coco128/labels/train2017' images and labels...128 found, 0 missing, 2 empty, 0 corrupt: 100% 128/128 [00:00<00:00, 9659.25it/s]\n",
            "\u001b[34m\u001b[1mtrain: \u001b[0mNew cache created: /content/datasets/coco128/labels/train2017.cache\n",
            "\u001b[34m\u001b[1mtrain: \u001b[0mCaching images (0.1GB ram): 100% 128/128 [00:00<00:00, 951.31it/s]\n",
            "\u001b[34m\u001b[1mval: \u001b[0mScanning '/content/datasets/coco128/labels/train2017.cache' images and labels... 128 found, 0 missing, 2 empty, 0 corrupt: 100% 128/128 [00:00<?, ?it/s]\n",
            "\u001b[34m\u001b[1mval: \u001b[0mCaching images (0.1GB ram): 100% 128/128 [00:00<00:00, 274.67it/s]\n",
            "\n",
            "\u001b[34m\u001b[1mAutoAnchor: \u001b[0m4.27 anchors/target, 0.994 Best Possible Recall (BPR). Current anchors are a good fit to dataset ✅\n",
            "Plotting labels to runs/train/exp/labels.jpg... \n",
            "Image sizes 640 train, 640 val\n",
            "Using 8 dataloader workers\n",
            "Logging results to \u001b[1mruns/train/exp\u001b[0m\n",
            "Starting training for 3 epochs...\n",
            "\n",
            "      Epoch    GPU_mem   box_loss   obj_loss   cls_loss  Instances       Size\n",
            "        0/2      3.44G    0.04529    0.06712    0.01835        323        640: 100% 8/8 [00:04<00:00,  1.71it/s]\n",
            "                 Class     Images  Instances          P          R     mAP@.5 mAP@.5:.95: 100% 4/4 [00:00<00:00,  4.02it/s]\n",
            "                   all        128        929      0.666      0.611      0.684      0.452\n",
            "\n",
            "      Epoch    GPU_mem   box_loss   obj_loss   cls_loss  Instances       Size\n",
            "        1/2      4.46G    0.04244    0.06423    0.01611        236        640: 100% 8/8 [00:01<00:00,  7.91it/s]\n",
            "                 Class     Images  Instances          P          R     mAP@.5 mAP@.5:.95: 100% 4/4 [00:00<00:00,  4.19it/s]\n",
            "                   all        128        929      0.746      0.626      0.722      0.481\n",
            "\n",
            "      Epoch    GPU_mem   box_loss   obj_loss   cls_loss  Instances       Size\n",
            "        2/2      4.46G    0.04695    0.06875     0.0173        189        640: 100% 8/8 [00:00<00:00,  8.05it/s]\n",
            "                 Class     Images  Instances          P          R     mAP@.5 mAP@.5:.95: 100% 4/4 [00:00<00:00,  4.29it/s]\n",
            "                   all        128        929      0.774      0.647      0.746      0.499\n",
            "\n",
            "3 epochs completed in 0.003 hours.\n",
            "Optimizer stripped from runs/train/exp/weights/last.pt, 14.9MB\n",
            "Optimizer stripped from runs/train/exp/weights/best.pt, 14.9MB\n",
            "\n",
            "Validating runs/train/exp/weights/best.pt...\n",
            "Fusing layers... \n",
            "Model summary: 213 layers, 7225885 parameters, 0 gradients, 16.4 GFLOPs\n",
            "                 Class     Images  Instances          P          R     mAP@.5 mAP@.5:.95: 100% 4/4 [00:03<00:00,  1.21it/s]\n",
            "                   all        128        929      0.774      0.647      0.746      0.499\n",
            "                person        128        254       0.87      0.697      0.806      0.534\n",
            "               bicycle        128          6      0.759      0.528      0.725      0.444\n",
            "                   car        128         46      0.774      0.413      0.554      0.239\n",
            "            motorcycle        128          5      0.791          1      0.962      0.595\n",
            "              airplane        128          6      0.981          1      0.995      0.689\n",
            "                   bus        128          7       0.65      0.714      0.755      0.691\n",
            "                 train        128          3          1      0.573      0.995      0.602\n",
            "                 truck        128         12      0.613      0.333      0.489      0.263\n",
            "                  boat        128          6      0.933      0.333      0.507      0.209\n",
            "         traffic light        128         14       0.76      0.228      0.367      0.209\n",
            "             stop sign        128          2      0.821          1      0.995      0.821\n",
            "                 bench        128          9      0.824      0.526      0.676       0.31\n",
            "                  bird        128         16      0.974          1      0.995      0.611\n",
            "                   cat        128          4      0.859          1      0.995      0.772\n",
            "                   dog        128          9          1      0.666      0.883      0.647\n",
            "                 horse        128          2       0.84          1      0.995      0.622\n",
            "              elephant        128         17      0.926      0.882       0.93      0.716\n",
            "                  bear        128          1      0.709          1      0.995      0.995\n",
            "                 zebra        128          4      0.866          1      0.995      0.922\n",
            "               giraffe        128          9      0.777      0.778      0.891      0.705\n",
            "              backpack        128          6      0.894        0.5      0.753      0.294\n",
            "              umbrella        128         18      0.876      0.783      0.899       0.54\n",
            "               handbag        128         19      0.799      0.209      0.335      0.179\n",
            "                   tie        128          7      0.782      0.714      0.787      0.478\n",
            "              suitcase        128          4      0.658          1      0.945      0.581\n",
            "               frisbee        128          5      0.726        0.8       0.76      0.701\n",
            "                  skis        128          1        0.8          1      0.995      0.103\n",
            "             snowboard        128          7      0.815      0.714      0.852      0.574\n",
            "           sports ball        128          6      0.649      0.667      0.602      0.307\n",
            "                  kite        128         10        0.7       0.47      0.546      0.206\n",
            "          baseball bat        128          4          1      0.497      0.544      0.182\n",
            "        baseball glove        128          7      0.598      0.429       0.47       0.31\n",
            "            skateboard        128          5      0.851        0.6      0.685      0.495\n",
            "         tennis racket        128          7      0.754      0.429      0.544       0.34\n",
            "                bottle        128         18      0.564      0.333       0.53      0.264\n",
            "            wine glass        128         16      0.715      0.875      0.907      0.528\n",
            "                   cup        128         36      0.825      0.639      0.803      0.535\n",
            "                  fork        128          6          1      0.329        0.5      0.384\n",
            "                 knife        128         16      0.706      0.625      0.666      0.405\n",
            "                 spoon        128         22      0.836      0.464      0.619      0.379\n",
            "                  bowl        128         28      0.763      0.607      0.717      0.516\n",
            "                banana        128          1      0.886          1      0.995      0.399\n",
            "              sandwich        128          2          1          0       0.62      0.546\n",
            "                orange        128          4          1       0.75      0.995      0.622\n",
            "              broccoli        128         11      0.548      0.443      0.467       0.35\n",
            "                carrot        128         24        0.7      0.585      0.699      0.458\n",
            "               hot dog        128          2      0.502          1      0.995      0.995\n",
            "                 pizza        128          5      0.813          1      0.962      0.747\n",
            "                 donut        128         14      0.662          1       0.96      0.838\n",
            "                  cake        128          4      0.868          1      0.995      0.822\n",
            "                 chair        128         35      0.538      0.571      0.594      0.322\n",
            "                 couch        128          6      0.924      0.667      0.828      0.538\n",
            "          potted plant        128         14      0.731      0.786      0.824      0.495\n",
            "                   bed        128          3      0.736      0.333       0.83      0.425\n",
            "          dining table        128         13      0.624      0.259      0.494      0.336\n",
            "                toilet        128          2       0.79          1      0.995      0.846\n",
            "                    tv        128          2      0.574          1      0.995      0.796\n",
            "                laptop        128          3          1          0      0.695      0.367\n",
            "                 mouse        128          2          1          0      0.173     0.0864\n",
            "                remote        128          8          1       0.62      0.634      0.557\n",
            "            cell phone        128          8      0.612      0.397      0.437      0.221\n",
            "             microwave        128          3      0.741          1      0.995      0.766\n",
            "                  oven        128          5       0.33        0.4      0.449        0.3\n",
            "                  sink        128          6      0.444      0.333      0.331      0.231\n",
            "          refrigerator        128          5      0.561        0.8      0.798      0.546\n",
            "                  book        128         29      0.635      0.276      0.355      0.164\n",
            "                 clock        128          9      0.766      0.889      0.888       0.73\n",
            "                  vase        128          2      0.303          1      0.995      0.895\n",
            "              scissors        128          1          1          0      0.332     0.0397\n",
            "            teddy bear        128         21      0.842      0.508      0.739      0.499\n",
            "            toothbrush        128          5      0.787          1      0.928       0.59\n",
            "Results saved to \u001b[1mruns/train/exp\u001b[0m\n"
          ]
        }
      ]
    }
  ]
}